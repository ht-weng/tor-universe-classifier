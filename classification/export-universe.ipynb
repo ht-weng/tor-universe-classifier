{
 "cells": [
  {
   "cell_type": "code",
   "execution_count": 1,
   "metadata": {},
   "outputs": [],
   "source": [
    "import pandas as pd\n",
    "import re\n",
    "import json\n",
    "import matplotlib.pyplot as plt\n",
    "import gc\n",
    "from bs4 import BeautifulSoup\n",
    "from json_stream_parser import load_iter"
   ]
  },
  {
   "cell_type": "code",
   "execution_count": 2,
   "metadata": {},
   "outputs": [],
   "source": [
    "date = 'mar-26'\n",
    "path = '/mnt/data/'"
   ]
  },
  {
   "cell_type": "code",
   "execution_count": 3,
   "metadata": {},
   "outputs": [],
   "source": [
    "# convert html to string\n",
    "def body2text_body(html):\n",
    "    soup = BeautifulSoup(html, 'lxml')\n",
    "    result = []\n",
    "    # kill all script and style elements\n",
    "    for script in soup(['script', 'style']):\n",
    "        script.extract()\n",
    "\n",
    "    text = soup.get_text()\n",
    "    # break into lines and remove leading and trailing space on each\n",
    "    lines = (line.strip() for line in text.splitlines())\n",
    "    for line in lines:\n",
    "        if line:\n",
    "            result.append(line)\n",
    "\n",
    "    return result"
   ]
  },
  {
   "cell_type": "code",
   "execution_count": 4,
   "metadata": {
    "scrolled": true
   },
   "outputs": [
    {
     "name": "stdout",
     "output_type": "stream",
     "text": [
      "Output csv 0\n"
     ]
    }
   ],
   "source": [
    "LIMIT = 500000\n",
    "i = 0\n",
    "data = []\n",
    "\n",
    "with open(path + 'universe-' + date + '.json') as data_file:\n",
    "    for obj in load_iter(data_file):\n",
    "        body = obj['_source']['body']\n",
    "        body_text = body2text_body(body)\n",
    "        row = [obj['_source']['url'], obj['_source']['title'], body_text, obj['_source']['status']]\n",
    "        data.append(row)\n",
    "        if len(data) >= LIMIT:\n",
    "            print('Output csv ' + str(i))\n",
    "            df = pd.DataFrame(data, columns=['url', 'title', 'body_text', 'status'])\n",
    "            df.to_csv(path + 'universe-'+date+'-'+str(i)+'.csv', index=False)\n",
    "            del df\n",
    "            data = []\n",
    "            i += 1\n",
    "            gc.collect()"
   ]
  },
  {
   "cell_type": "code",
   "execution_count": null,
   "metadata": {},
   "outputs": [],
   "source": []
  }
 ],
 "metadata": {
  "kernelspec": {
   "display_name": "Python 3",
   "language": "python",
   "name": "python3"
  },
  "language_info": {
   "codemirror_mode": {
    "name": "ipython",
    "version": 3
   },
   "file_extension": ".py",
   "mimetype": "text/x-python",
   "name": "python",
   "nbconvert_exporter": "python",
   "pygments_lexer": "ipython3",
   "version": "3.7.6"
  }
 },
 "nbformat": 4,
 "nbformat_minor": 4
}
